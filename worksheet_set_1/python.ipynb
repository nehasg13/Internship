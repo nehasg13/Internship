{
 "cells": [
  {
   "cell_type": "code",
   "execution_count": null,
   "id": "095b0580",
   "metadata": {},
   "outputs": [],
   "source": [
    "#PYTHON WORKSHEET-1\n",
    "\n",
    "1.C\n",
    "2.B\n",
    "3.C\n",
    "4.A\n",
    "5.D\n",
    "6.B\n",
    "7.A\n",
    "8.C\n",
    "9.A & C\n",
    "10.A & B\n"
   ]
  },
  {
   "cell_type": "code",
   "execution_count": null,
   "id": "fdc4d047",
   "metadata": {},
   "outputs": [],
   "source": [
    "#11\n",
    "n = int (input ('Enter a number:'))\n",
    "\n",
    "factorial = 1\n",
    "\n",
    "if n >= 1:\n",
    "\n",
    "              for i in range (1, n+1):\n",
    "\n",
    "                             factorial = factorial *i\n",
    "\n",
    "print ('Factorial of the given number is:' , factorial)\n",
    "\n"
   ]
  },
  {
   "cell_type": "code",
   "execution_count": null,
   "id": "780bf510",
   "metadata": {},
   "outputs": [],
   "source": [
    "#12\n",
    "n= int(input('Enter a number:'))\n",
    "if n > 1:\n",
    "for i in range(2, int(n/2)+1):\n",
    "    if (n % i) ==0:\n",
    "        print(num, \"is not a prime number\")\n",
    "    break\n",
    "else:\n",
    "    print(n, \"is a prime number\")\n"
   ]
  },
  {
   "cell_type": "code",
   "execution_count": null,
   "id": "7191cbc8",
   "metadata": {},
   "outputs": [],
   "source": [
    "#13\n",
    "str_1 = input (“Enter the string to check if it is a palindrome: “)\n",
    "\n",
    "str_1 = str_1.casefold ()\n",
    "\n",
    "rev_str = reversed (str_1)\n",
    "\n",
    "if (list str_1) == list (rev_str):\n",
    "\n",
    "              print (“The string is a palindrome.”)\n",
    "\n",
    "else:\n",
    "\n",
    "              print (“The string is not a palindrome.”)\n"
   ]
  },
  {
   "cell_type": "code",
   "execution_count": null,
   "id": "40fb7603",
   "metadata": {},
   "outputs": [],
   "source": [
    "#14\n",
    "from math import sqrt\n",
    "print(\"Input lengths of shorter triangle sides:\")\n",
    "a = float(input(\"a: \"))\n",
    "b = float(input(\"b: \"))\n",
    "c = sqrt(a^2 + b^2)\n",
    "print(\"The length of the hypotenuse is:\", c )"
   ]
  },
  {
   "cell_type": "code",
   "execution_count": null,
   "id": "3cc80345",
   "metadata": {},
   "outputs": [],
   "source": [
    "#15\n",
    "from collections import Counter\n",
    "test_str = \"I am doing my internship at Flip Robo\"\n",
    "res = Counter(test_str)\n",
    "print(\"Count of all characters in I am doing my internship at Flip Robo is :\\n \"\n",
    "      + str(res))"
   ]
  },
  {
   "cell_type": "code",
   "execution_count": null,
   "id": "0c8094af",
   "metadata": {},
   "outputs": [],
   "source": []
  }
 ],
 "metadata": {
  "kernelspec": {
   "display_name": "Python 3 (ipykernel)",
   "language": "python",
   "name": "python3"
  },
  "language_info": {
   "codemirror_mode": {
    "name": "ipython",
    "version": 3
   },
   "file_extension": ".py",
   "mimetype": "text/x-python",
   "name": "python",
   "nbconvert_exporter": "python",
   "pygments_lexer": "ipython3",
   "version": "3.9.13"
  }
 },
 "nbformat": 4,
 "nbformat_minor": 5
}
